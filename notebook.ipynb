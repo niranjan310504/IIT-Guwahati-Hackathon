{
  "cells": [
    {
      "cell_type": "code",
      "execution_count": 1,
      "metadata": {
        "id": "He3DtlqDJBZL"
      },
      "outputs": [],
      "source": [
        "import pandas as pd\n",
        "import numpy as np\n",
        "from sklearn.model_selection import StratifiedKFold, cross_val_score, train_test_split\n",
        "from sklearn.preprocessing import StandardScaler, OneHotEncoder, PowerTransformer\n",
        "from sklearn.compose import ColumnTransformer\n",
        "from sklearn.pipeline import Pipeline\n",
        "from sklearn.impute import SimpleImputer\n",
        "from sklearn.ensemble import RandomForestClassifier\n",
        "from sklearn.metrics import roc_auc_score\n",
        "import seaborn as sns\n",
        "import matplotlib.pyplot as plt\n",
        "\n",
        "np.random.seed(42)"
      ]
    },
    {
      "cell_type": "code",
      "execution_count": 2,
      "metadata": {
        "id": "9UbTwDmIJK-I"
      },
      "outputs": [],
      "source": [
        "import pandas as pd\n",
        "\n",
        "data_a = pd.read_csv('training_set_features.csv')\n",
        "labels_a = pd.read_csv('training_set_labels.csv')\n",
        "data_b = pd.read_csv('test_set_features.csv')\n",
        "\n",
        "X_train_a = data_a.drop(columns=['respondent_id'])\n",
        "y_train_a = labels_a.drop(columns=['respondent_id'])\n",
        "X_test_b = data_b.drop(columns=['respondent_id'])\n",
        "\n",
        "test_id_b = data_b['respondent_id']\n"
      ]
    },
    {
      "cell_type": "code",
      "execution_count": 3,
      "metadata": {
        "colab": {
          "base_uri": "https://localhost:8080/"
        },
        "id": "vS9iU9SyJaz9",
        "outputId": "d67660d9-cb28-49b4-b382-e360986c7cd9"
      },
      "outputs": [
        {
          "output_type": "stream",
          "name": "stdout",
          "text": [
            "Missing values in training set:\n",
            "xyz_concern                       92\n",
            "xyz_knowledge                    116\n",
            "behavioral_antiviral_meds         71\n",
            "behavioral_avoidance             208\n",
            "behavioral_face_mask              19\n",
            "behavioral_wash_hands             42\n",
            "behavioral_large_gatherings       87\n",
            "behavioral_outside_home           82\n",
            "behavioral_touch_face            128\n",
            "doctor_recc_xyz                 2160\n",
            "doctor_recc_seasonal            2160\n",
            "chronic_med_condition            971\n",
            "child_under_6_months             820\n",
            "health_worker                    804\n",
            "health_insurance               12274\n",
            "opinion_xyz_vacc_effective       391\n",
            "opinion_xyz_risk                 388\n",
            "opinion_xyz_sick_from_vacc       395\n",
            "opinion_seas_vacc_effective      462\n",
            "opinion_seas_risk                514\n",
            "opinion_seas_sick_from_vacc      537\n",
            "education                       1407\n",
            "income_poverty                  4423\n",
            "marital_status                  1408\n",
            "rent_or_own                     2042\n",
            "employment_status               1463\n",
            "household_adults                 249\n",
            "household_children               249\n",
            "employment_industry            13330\n",
            "employment_occupation          13470\n",
            "dtype: int64\n",
            "Missing values in test set:\n",
            "xyz_concern                       85\n",
            "xyz_knowledge                    122\n",
            "behavioral_antiviral_meds         79\n",
            "behavioral_avoidance             213\n",
            "behavioral_face_mask              19\n",
            "behavioral_wash_hands             40\n",
            "behavioral_large_gatherings       72\n",
            "behavioral_outside_home           82\n",
            "behavioral_touch_face            128\n",
            "doctor_recc_xyz                 2160\n",
            "doctor_recc_seasonal            2160\n",
            "chronic_med_condition            932\n",
            "child_under_6_months             813\n",
            "health_worker                    789\n",
            "health_insurance               12228\n",
            "opinion_xyz_vacc_effective       398\n",
            "opinion_xyz_risk                 380\n",
            "opinion_xyz_sick_from_vacc       375\n",
            "opinion_seas_vacc_effective      452\n",
            "opinion_seas_risk                499\n",
            "opinion_seas_sick_from_vacc      521\n",
            "education                       1407\n",
            "income_poverty                  4497\n",
            "marital_status                  1442\n",
            "rent_or_own                     2036\n",
            "employment_status               1471\n",
            "household_adults                 225\n",
            "household_children               225\n",
            "employment_industry            13275\n",
            "employment_occupation          13426\n",
            "dtype: int64\n",
            "Missing values in training set:\n",
            " xyz_concern                       92\n",
            "xyz_knowledge                    116\n",
            "behavioral_antiviral_meds         71\n",
            "behavioral_avoidance             208\n",
            "behavioral_face_mask              19\n",
            "behavioral_wash_hands             42\n",
            "behavioral_large_gatherings       87\n",
            "behavioral_outside_home           82\n",
            "behavioral_touch_face            128\n",
            "doctor_recc_xyz                 2160\n",
            "doctor_recc_seasonal            2160\n",
            "chronic_med_condition            971\n",
            "child_under_6_months             820\n",
            "health_worker                    804\n",
            "health_insurance               12274\n",
            "opinion_xyz_vacc_effective       391\n",
            "opinion_xyz_risk                 388\n",
            "opinion_xyz_sick_from_vacc       395\n",
            "opinion_seas_vacc_effective      462\n",
            "opinion_seas_risk                514\n",
            "opinion_seas_sick_from_vacc      537\n",
            "education                       1407\n",
            "income_poverty                  4423\n",
            "marital_status                  1408\n",
            "rent_or_own                     2042\n",
            "employment_status               1463\n",
            "household_adults                 249\n",
            "household_children               249\n",
            "employment_industry            13330\n",
            "employment_occupation          13470\n",
            "dtype: int64\n",
            "Missing values in test set:\n",
            " xyz_concern                       85\n",
            "xyz_knowledge                    122\n",
            "behavioral_antiviral_meds         79\n",
            "behavioral_avoidance             213\n",
            "behavioral_face_mask              19\n",
            "behavioral_wash_hands             40\n",
            "behavioral_large_gatherings       72\n",
            "behavioral_outside_home           82\n",
            "behavioral_touch_face            128\n",
            "doctor_recc_xyz                 2160\n",
            "doctor_recc_seasonal            2160\n",
            "chronic_med_condition            932\n",
            "child_under_6_months             813\n",
            "health_worker                    789\n",
            "health_insurance               12228\n",
            "opinion_xyz_vacc_effective       398\n",
            "opinion_xyz_risk                 380\n",
            "opinion_xyz_sick_from_vacc       375\n",
            "opinion_seas_vacc_effective      452\n",
            "opinion_seas_risk                499\n",
            "opinion_seas_sick_from_vacc      521\n",
            "education                       1407\n",
            "income_poverty                  4497\n",
            "marital_status                  1442\n",
            "rent_or_own                     2036\n",
            "employment_status               1471\n",
            "household_adults                 225\n",
            "household_children               225\n",
            "employment_industry            13275\n",
            "employment_occupation          13426\n",
            "dtype: int64\n"
          ]
        }
      ],
      "source": [
        "missing_values_train_a = X_train_a.isnull().sum()\n",
        "print(f\"Missing values in training set:\\n{missing_values_train_a[missing_values_train_a > 0]}\")\n",
        "\n",
        "missing_values_test_b = X_test_b.isnull().sum()\n",
        "print(f\"Missing values in test set:\\n{missing_values_test_b[missing_values_test_b > 0]}\")\n",
        "\n",
        "missing_train_a = X_train_a.isnull().sum()\n",
        "missing_test_b = X_test_b.isnull().sum()\n",
        "\n",
        "print(\"Missing values in training set:\\n\", missing_train_a[missing_train_a > 0])\n",
        "print(\"Missing values in test set:\\n\", missing_test_b[missing_test_b > 0])\n"
      ]
    },
    {
      "cell_type": "code",
      "execution_count": 4,
      "metadata": {
        "id": "jcq6cgi9KrEK",
        "colab": {
          "base_uri": "https://localhost:8080/"
        },
        "outputId": "224f1cfc-efb4-4b7d-cbe7-d255d21783a5"
      },
      "outputs": [
        {
          "output_type": "stream",
          "name": "stdout",
          "text": [
            "Skewed features in training set:\n",
            "behavioral_antiviral_meds      4.186267\n",
            "behavioral_face_mask           3.401553\n",
            "child_under_6_months           3.032832\n",
            "health_worker                  2.461945\n",
            "household_children             1.543815\n",
            "doctor_recc_xyz                1.349659\n",
            "chronic_med_condition          0.962041\n",
            "opinion_seas_sick_from_vacc    0.919535\n",
            "household_adults               0.786528\n",
            "doctor_recc_seasonal           0.724353\n",
            "behavioral_outside_home        0.688189\n",
            "opinion_xyz_risk               0.672918\n",
            "opinion_xyz_sick_from_vacc     0.651243\n",
            "behavioral_large_gatherings    0.589489\n",
            "behavioral_touch_face         -0.758312\n",
            "opinion_xyz_vacc_effective    -0.902654\n",
            "behavioral_avoidance          -1.011249\n",
            "opinion_seas_vacc_effective   -1.315101\n",
            "behavioral_wash_hands         -1.716283\n",
            "dtype: float64\n"
          ]
        }
      ],
      "source": [
        "threshold_a = 0.45\n",
        "cols_to_drop_a = missing_train_a[missing_train_a > threshold_a * len(X_train_a)].index\n",
        "X_train_a.drop(columns=cols_to_drop_a, inplace=True)\n",
        "X_test_b.drop(columns=cols_to_drop_a, inplace=True)\n",
        "\n",
        "from scipy.stats import skew\n",
        "\n",
        "numeric_features_train_a = X_train_a.select_dtypes(include=['int64', 'float64']).columns\n",
        "skewed_features_train_a = X_train_a[numeric_features_train_a].apply(lambda x: skew(x.dropna())).sort_values(ascending=False)\n",
        "skewed_features_train_a = skewed_features_train_a[abs(skewed_features_train_a) > 0.5]\n",
        "print(f'Skewed features in training set:\\n{skewed_features_train_a}')\n",
        "\n",
        "for feature_a in skewed_features_train_a.index:\n",
        "    X_train_a[feature_a] = np.log1p(X_train_a[feature_a])\n",
        "    X_test_b[feature_a] = np.log1p(X_test_b[feature_a])\n"
      ]
    },
    {
      "cell_type": "code",
      "source": [
        "numeric_features_train_a = X_train_a.select_dtypes(include=['int64', 'float64']).columns\n",
        "categorical_features_train_a = X_train_a.select_dtypes(include=['object', 'category']).columns\n",
        "\n",
        "numeric_transformer_a = Pipeline(steps=[\n",
        "    ('imputer', SimpleImputer(strategy='median')),\n",
        "    ('scaler', StandardScaler())\n",
        "])\n",
        "\n",
        "categorical_transformer_a = Pipeline(steps=[\n",
        "    ('imputer', SimpleImputer(strategy='most_frequent')),\n",
        "    ('onehot', OneHotEncoder(handle_unknown='ignore'))\n",
        "])\n",
        "\n",
        "preprocessor_train_a = ColumnTransformer(\n",
        "    transformers=[\n",
        "        ('num', numeric_transformer_a, numeric_features_train_a),\n",
        "        ('cat', categorical_transformer_a, categorical_features_train_a)\n",
        "    ])\n"
      ],
      "metadata": {
        "id": "jVzZzZdt5Q4O"
      },
      "execution_count": 5,
      "outputs": []
    },
    {
      "cell_type": "code",
      "source": [
        "X_train_preprocessed_a = preprocessor_train_a.fit_transform(X_train_a)\n",
        "X_test_preprocessed_b = preprocessor_train_a.transform(X_test_b)\n"
      ],
      "metadata": {
        "id": "tjp76J3c5TjQ"
      },
      "execution_count": 6,
      "outputs": []
    },
    {
      "cell_type": "code",
      "source": [
        "rf_model_h1n1_a = RandomForestClassifier(random_state=42)\n",
        "rf_model_seasonal_a = RandomForestClassifier(random_state=42)\n",
        "\n",
        "cv_a = StratifiedKFold(n_splits=5, shuffle=True, random_state=42)\n",
        "\n",
        "rf_model_h1n1_a.fit(X_train_preprocessed_a, y_train_a['xyz_vaccine'])\n",
        "h1n1_scores_a = cross_val_score(rf_model_h1n1_a, X_train_preprocessed_a, y_train_a['xyz_vaccine'], cv=cv_a, scoring='roc_auc')\n",
        "mean_h1n1_auc_a = np.mean(h1n1_scores_a)\n",
        "\n",
        "rf_model_seasonal_a.fit(X_train_preprocessed_a, y_train_a['seasonal_vaccine'])\n",
        "seasonal_scores_a = cross_val_score(rf_model_seasonal_a, X_train_preprocessed_a, y_train_a['seasonal_vaccine'], cv=cv_a, scoring='roc_auc')\n",
        "mean_seasonal_auc_a = np.mean(seasonal_scores_a)\n",
        "\n",
        "mean_auc_a = np.mean([mean_h1n1_auc_a, mean_seasonal_auc_a])\n",
        "\n",
        "print(f'Mean ROC AUC for h1n1_vaccine: {mean_h1n1_auc_a}')\n",
        "print(f'Mean ROC AUC for seasonal_vaccine: {mean_seasonal_auc_a}')\n",
        "print(f'Mean ROC AUC for both vaccines: {mean_auc_a}')\n",
        "\n",
        "y_pred_h1n1_test_a = rf_model_h1n1_a.predict_proba(X_test_preprocessed_b)[:, 1]\n",
        "y_pred_seasonal_test_a = rf_model_seasonal_a.predict_proba(X_test_preprocessed_b)[:, 1]\n",
        "\n",
        "submission_a = pd.DataFrame({\n",
        "    'respondent_id': test_id_b,\n",
        "    'xyz_vaccine': y_pred_h1n1_test_a,\n",
        "    'seasonal_vaccine': y_pred_seasonal_test_a\n",
        "})\n",
        "\n",
        "submission_a.to_csv('submission.csv', index=False)\n"
      ],
      "metadata": {
        "colab": {
          "base_uri": "https://localhost:8080/"
        },
        "id": "ZNcLLaoy5WZS",
        "outputId": "98954d19-4c34-4914-e921-0b8abf7c2230"
      },
      "execution_count": 7,
      "outputs": [
        {
          "output_type": "stream",
          "name": "stdout",
          "text": [
            "Mean ROC AUC for h1n1_vaccine: 0.8223687226584335\n",
            "Mean ROC AUC for seasonal_vaccine: 0.8467393955910418\n",
            "Mean ROC AUC for both vaccines: 0.8345540591247377\n"
          ]
        }
      ]
    }
  ],
  "metadata": {
    "colab": {
      "provenance": []
    },
    "kernelspec": {
      "display_name": "Python 3",
      "name": "python3"
    },
    "language_info": {
      "name": "python"
    }
  },
  "nbformat": 4,
  "nbformat_minor": 0
}